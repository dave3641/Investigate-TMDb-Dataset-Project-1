{
 "cells": [
  {
   "cell_type": "markdown",
   "metadata": {},
   "source": [
    "# Project: Investigate The Movie Database (TMDb) Dataset\n",
    "\n",
    "## Table of Contents\n",
    "<ul>\n",
    "<li><a href=\"#intro\">Introduction</a></li>\n",
    "<li><a href=\"#wrangling\">Data Wrangling</a></li>\n",
    "<li><a href=\"#eda\">Exploratory Data Analysis</a></li>\n",
    "<li><a href=\"#rq1\">Research Question 1 - Do movie stars move to bigger budget films as their career progresses?</a></li>\n",
    "<li><a href=\"#rq2\">Research Question 2 - Is the TMDb popularity linked to the revenue taken by the film?</a></li>\n",
    "<li><a href=\"#conclusions\">Conclusions</a></li>\n",
    "</ul>"
   ]
  },
  {
   "cell_type": "markdown",
   "metadata": {},
   "source": [
    "<a id='intro'></a>\n",
    "## Introduction\n",
    "\n",
    "I have chose to investigate the TMDb (The Movie Database) dataset, as this is the one which I have the most previous knowledge and interest in. The database includes information on over 10,000 movies, including details such as the cast and the budget.\n",
    "\n",
    "This Jupyter notebook was created with **python version 2.7.15**."
   ]
  },
  {
   "cell_type": "code",
   "execution_count": null,
   "metadata": {},
   "outputs": [],
   "source": [
    "import pandas as pd\n",
    "import datetime as dt\n",
    "import numpy as np\n",
    "import matplotlib.pyplot as plt\n",
    "%matplotlib inline"
   ]
  },
  {
   "cell_type": "markdown",
   "metadata": {},
   "source": [
    "<a id='wrangling'></a>\n",
    "## Data Wrangling\n",
    "\n",
    "First of all I will load the csv (Comma Separated Values) dataset into pandas, before looking at the start and end of the dataset.\n",
    "\n",
    "### General Properties"
   ]
  },
  {
   "cell_type": "code",
   "execution_count": null,
   "metadata": {},
   "outputs": [],
   "source": [
    "tmdb = pd.read_csv(\"tmdb-movies.csv\")       #load data\n",
    "tmdb.head                                   #output the start and end of the data"
   ]
  },
  {
   "cell_type": "markdown",
   "metadata": {},
   "source": [
    "Looking at the start and end of the data, it can be seen that the budget and revenue data is missing for older films, but as this data may be usefull, it is worth keeping the data series.\n",
    "The homepage, tagline, keywords and overview columns are long columns which are unlikely to provide usable data, so I plan to drop these to make the table easier to read. I am also unlikely to use the imdb_id column, so this will also be dropped. I will also output the first row of data to see a clearer samle of the headings and respective data.\n",
    "\n",
    ">Note - Only run this cell once, otherwise you will get an error as it tries to delete the columns again.\n",
    "### Data Cleaning"
   ]
  },
  {
   "cell_type": "code",
   "execution_count": null,
   "metadata": {},
   "outputs": [],
   "source": [
    "del tmdb['homepage']                        #only run this cell once\n",
    "del tmdb['tagline']\n",
    "del tmdb['keywords']\n",
    "del tmdb['overview']\n",
    "del tmdb['imdb_id']"
   ]
  },
  {
   "cell_type": "code",
   "execution_count": null,
   "metadata": {},
   "outputs": [],
   "source": [
    "print(tmdb.iloc[0])                          #print column names and first row (0)"
   ]
  },
  {
   "cell_type": "markdown",
   "metadata": {},
   "source": [
    "The cast, genres and production_companies look like interesting datasets to probe, so I am going to add total counts of the data in these columns to 3 new columns.\n",
    "First of all I need to check for any empty series, as I will be adding 1 to the count of '|' characters, which will only be present when there is more that one item.\n"
   ]
  },
  {
   "cell_type": "code",
   "execution_count": null,
   "metadata": {},
   "outputs": [],
   "source": [
    "print('Cast length:', len(tmdb['cast']))\n",
    "print('Genres length:', len(tmdb['genres']))\n",
    "print('Production companies length:', len(tmdb['production_companies']))"
   ]
  },
  {
   "cell_type": "markdown",
   "metadata": {},
   "source": [
    "Then I count the separators and add one column to the dataset for the count of items in each series.\n",
    "\n",
    ">Note - Only run this cell once, otherwise you will get an error as it tries to create the columns again."
   ]
  },
  {
   "cell_type": "code",
   "execution_count": null,
   "metadata": {},
   "outputs": [],
   "source": [
    "tmdb['cast_count'] = (tmdb['cast'].str.count('\\|')) + 1    #only run this cell once\n",
    "tmdb['genre_count'] = (tmdb['genres'].str.count('\\|')) + 1\n",
    "tmdb['companies_count'] = (tmdb['production_companies'].str.count('\\|')) + 1"
   ]
  },
  {
   "cell_type": "markdown",
   "metadata": {},
   "source": [
    "Again print the first datapoint and the data types statistics for the dataset."
   ]
  },
  {
   "cell_type": "code",
   "execution_count": null,
   "metadata": {},
   "outputs": [],
   "source": [
    "print(tmdb.iloc[0])\n",
    "print(tmdb.dtypes)"
   ]
  },
  {
   "cell_type": "markdown",
   "metadata": {},
   "source": [
    "Now change the data types in the data frame, to their respective data types - integers, floats and dates.\n"
   ]
  },
  {
   "cell_type": "code",
   "execution_count": null,
   "metadata": {},
   "outputs": [],
   "source": [
    "def parse_maybe_int(i):\n",
    "    if i == '':\n",
    "        return None\n",
    "    else:\n",
    "        return int(i)\n",
    "\n",
    "tmdb['budget_adj'] = tmdb['budget_adj'].apply(parse_maybe_int)\n",
    "tmdb['revenue_adj'] = tmdb['revenue_adj'].apply(parse_maybe_int)\n",
    "\n",
    "print(tmdb['budget_adj'].head)\n",
    "print(tmdb['revenue_adj'].head)"
   ]
  },
  {
   "cell_type": "markdown",
   "metadata": {},
   "source": [
    "Note the dates are in US format - months/days/years\n",
    "\n",
    "Default 2digit dates in python for 19xx are from 1969, so we will need to change the dates before 1969, from 2066, 2067 & 2068 to 1966, 1967 & 1968 respectively. As the dates are in the range 1966 to 2015, I know all dates after 2015 should infact begin with 19xx, so I will subtract 100 years off of all dates with a year greater than today (2018)."
   ]
  },
  {
   "cell_type": "code",
   "execution_count": null,
   "metadata": {},
   "outputs": [],
   "source": [
    "def parse_date(date):\n",
    "    if date == '':\n",
    "        return None\n",
    "    else:\n",
    "        return dt.datetime.strptime(date, '%m/%d/%y')\n",
    "    \n",
    "def parse_pre69(date1):\n",
    "    if date1.year > 2018:\n",
    "        return date1.replace(year=date1.year-100)\n",
    "    else:\n",
    "        return date1\n",
    "\n",
    "tmdb['release_date'] = tmdb['release_date'].apply(parse_date)\n",
    "tmdb['release_date'] = tmdb['release_date'].apply(parse_pre69)\n",
    "\n",
    "print(tmdb['release_date'].head)\n",
    "print(tmdb['release_year'].head)"
   ]
  },
  {
   "cell_type": "markdown",
   "metadata": {},
   "source": [
    "I then sorted the dataset in date format, before then displaying the start and end of the datset, to ensure that I parsed all of the dates correctly."
   ]
  },
  {
   "cell_type": "code",
   "execution_count": null,
   "metadata": {},
   "outputs": [],
   "source": [
    "tmdb = tmdb.sort_values(by=['release_date'], ascending=True)\n",
    "print(tmdb.head) "
   ]
  },
  {
   "cell_type": "markdown",
   "metadata": {},
   "source": [
    "Finally I use the pandas .describe function, to see the statistics of the data in each of the columns."
   ]
  },
  {
   "cell_type": "code",
   "execution_count": null,
   "metadata": {},
   "outputs": [],
   "source": [
    "tmdb.describe()"
   ]
  },
  {
   "cell_type": "markdown",
   "metadata": {},
   "source": [
    "<a id='eda'></a>\n",
    "## Exploratory Data Analysis"
   ]
  },
  {
   "cell_type": "markdown",
   "metadata": {},
   "source": [
    "<a id='rq1'></a>\n",
    "### Research Question 1 - Do movie stars move to bigger budget films as their career progresses?\n",
    "\n",
    "As movie stars progress in their career, they normally take on more major parts in big films. I plan to see if there is an increase in the budget of the films over the top 20 stars careers. With the number of actors for each film restrcted to 5, parts of an actors career will not show in the statistics. I will need to compare this first to the inflation adjusted budget of the film, and then also the takings of the film, as a high takings to budget ratio may show when an actor has made the film more money, which then enabled then to claim a higher wage.\n",
    "\n",
    "First of all I will separate all of the actors out into a separate data frame, before then combining into a single list, to see who the top 20 actors are."
   ]
  },
  {
   "cell_type": "code",
   "execution_count": null,
   "metadata": {},
   "outputs": [],
   "source": [
    "actorsdf = tmdb['cast'].str.split('|', expand=True).rename(columns = lambda x:\"actor\"+str(x+1))\n",
    "#lambda x: \"string\"+str(x+1)\n",
    "print('Actors from oldest film:', actorsdf.iloc[0])\n",
    "print('Start and end of Actors dataframe:', actorsdf.head)"
   ]
  },
  {
   "cell_type": "code",
   "execution_count": null,
   "metadata": {},
   "outputs": [],
   "source": [
    "single_list = pd.concat([actorsdf['actor1'],actorsdf['actor2'],actorsdf['actor3'],actorsdf['actor4'],actorsdf['actor5']], ignore_index=True)\n",
    "print('Single list length:', len(single_list))\n",
    "print('Start and end of single list:', single_list.head)"
   ]
  },
  {
   "cell_type": "markdown",
   "metadata": {},
   "source": [
    "Then I will create a list with the total count of each actor appearing in the dataset."
   ]
  },
  {
   "cell_type": "code",
   "execution_count": null,
   "metadata": {},
   "outputs": [],
   "source": [
    "sorted_list = single_list.value_counts()\n",
    "sorted_list = sorted_list.rename_axis('Actor').reset_index(name='Count')\n",
    "print('Actors list length:', len(sorted_list))\n",
    "print('Start and end of Top Actors:', sorted_list.head)"
   ]
  },
  {
   "cell_type": "markdown",
   "metadata": {},
   "source": [
    "Then I will plot this list as a histogram to see if there is a good spread of data."
   ]
  },
  {
   "cell_type": "code",
   "execution_count": null,
   "metadata": {},
   "outputs": [],
   "source": [
    "plt.hist(sorted_list['Count'])\n",
    "plt.xlabel('Count of movies per Actor')\n",
    "plt.ylabel('Number of Actors with respective film count')\n",
    "plt.title('Actors vs Film Count')"
   ]
  },
  {
   "cell_type": "markdown",
   "metadata": {},
   "source": [
    "As the majority of actors have appeared in less than 10 films (as a top 5 actor), I will create a shorter list containing just the top 20 actors, so that I the most data for each actor to compare against one another.\n",
    "I will also plot another histogram for these top 20 actors."
   ]
  },
  {
   "cell_type": "code",
   "execution_count": null,
   "metadata": {},
   "outputs": [],
   "source": [
    "short_list = sorted_list.head(20)\n",
    "print(short_list)\n",
    "plt.hist(short_list['Count'])\n",
    "plt.xlabel('Count of movies per Actor')\n",
    "plt.ylabel('Number of Actors with respective film count')\n",
    "plt.title('Actors vs Film Count')"
   ]
  },
  {
   "cell_type": "markdown",
   "metadata": {},
   "source": [
    "Now that I have a useable Actor dataset, I can analyse the main TMDb dataset, and graph the out put.\n",
    "\n",
    "I have defined two routines for creating the graphs, one to filter out the small and zero values I was seeing for the inflation adjusted budget, and the second to extract the data to graph for just one Actor."
   ]
  },
  {
   "cell_type": "code",
   "execution_count": null,
   "metadata": {},
   "outputs": [],
   "source": [
    "def parse_budget(budget):\n",
    "    if budget > 100:\n",
    "        return budget\n",
    "\n",
    "def top20_graph(i):\n",
    "    g = 'g'+str(i)\n",
    "    g = tmdb[tmdb['cast'].str.contains(short_list['Actor'].iloc[i])==True]\n",
    "    del g['id']\n",
    "    del g['popularity']\n",
    "    del g['budget']\n",
    "    del g['revenue']\n",
    "    del g['director']\n",
    "    del g['runtime']\n",
    "    del g['genres']\n",
    "    del g['production_companies']\n",
    "    del g['vote_count']\n",
    "    del g['vote_average']\n",
    "    del g['release_year']\n",
    "    del g['cast_count']\n",
    "    del g['genre_count']\n",
    "    del g['companies_count']\n",
    "    del g['cast']\n",
    "    del g['revenue_adj']\n",
    "    del g['original_title']\n",
    "    g = g.set_index(['release_date'])\n",
    "    g = g['budget_adj'].apply(parse_budget)\n",
    "    g = g.dropna()\n",
    "    print('Graph for Actor:', short_list['Actor'].iloc[i])\n",
    "    print('Top Actor Number:', i+1)\n",
    "    print('Was a top 5 Actor in:', short_list['Count'].iloc[i], 'films')\n",
    "    print('Number of plotted films:', len(g))\n",
    "    plt.plot(g, 'ro')\n",
    "    plt.xlabel('Date (Year)')\n",
    "    plt.ylabel('Inflation Adjusted Revenue')\n",
    "    plt.title(short_list['Actor'].iloc[i])"
   ]
  },
  {
   "cell_type": "markdown",
   "metadata": {},
   "source": [
    "I then created graphs for the Top 20 Actors."
   ]
  },
  {
   "cell_type": "code",
   "execution_count": null,
   "metadata": {},
   "outputs": [],
   "source": [
    "top20_graph(0)"
   ]
  },
  {
   "cell_type": "code",
   "execution_count": null,
   "metadata": {},
   "outputs": [],
   "source": [
    "top20_graph(1)"
   ]
  },
  {
   "cell_type": "code",
   "execution_count": null,
   "metadata": {},
   "outputs": [],
   "source": [
    "top20_graph(2)"
   ]
  },
  {
   "cell_type": "code",
   "execution_count": null,
   "metadata": {},
   "outputs": [],
   "source": [
    "top20_graph(3)"
   ]
  },
  {
   "cell_type": "code",
   "execution_count": null,
   "metadata": {},
   "outputs": [],
   "source": [
    "top20_graph(4)"
   ]
  },
  {
   "cell_type": "code",
   "execution_count": null,
   "metadata": {},
   "outputs": [],
   "source": [
    "top20_graph(5)"
   ]
  },
  {
   "cell_type": "code",
   "execution_count": null,
   "metadata": {},
   "outputs": [],
   "source": [
    "top20_graph(6)"
   ]
  },
  {
   "cell_type": "code",
   "execution_count": null,
   "metadata": {},
   "outputs": [],
   "source": [
    "top20_graph(7)"
   ]
  },
  {
   "cell_type": "code",
   "execution_count": null,
   "metadata": {},
   "outputs": [],
   "source": [
    "top20_graph(8)"
   ]
  },
  {
   "cell_type": "code",
   "execution_count": null,
   "metadata": {},
   "outputs": [],
   "source": [
    "top20_graph(9)"
   ]
  },
  {
   "cell_type": "markdown",
   "metadata": {},
   "source": [
    "Unfortunately I could not see a corellation between the budget of a film increasing as a movie stars career progresses.\n",
    "If the data had been available, this may have shown for actors at the start of their career, before they were mentioned in the top 5 actors."
   ]
  },
  {
   "cell_type": "markdown",
   "metadata": {},
   "source": [
    "<a id='rq2'></a>\n",
    "### Research Question 2 - Is the TMDb popularity linked to the revenue taken by the film?"
   ]
  },
  {
   "cell_type": "markdown",
   "metadata": {},
   "source": [
    "I then wanted to see if the TMDb popularity was linked to the revenue taken by the film. I wanted to graph the inflation adjusted revenue against the average vote, however if this did not show a corellation, I could also look at the vote count and popularity data series.\n",
    "First I reminded myself of the first data point in my dataset."
   ]
  },
  {
   "cell_type": "code",
   "execution_count": null,
   "metadata": {},
   "outputs": [],
   "source": [
    "print(tmdb.iloc[0])"
   ]
  },
  {
   "cell_type": "markdown",
   "metadata": {},
   "source": [
    "I then created a new dataset where the value of the adjusted budget was at least 100, in order to remove any erroneous data points, before returning the size of the new dataset."
   ]
  },
  {
   "cell_type": "code",
   "execution_count": null,
   "metadata": {},
   "outputs": [],
   "source": [
    "rev = tmdb[tmdb['revenue_adj']>100]\n",
    "print(len(rev))"
   ]
  },
  {
   "cell_type": "markdown",
   "metadata": {},
   "source": [
    "I then again called up the first data point to ensure that the first data point with 0 for adjusted budget had been removed."
   ]
  },
  {
   "cell_type": "code",
   "execution_count": null,
   "metadata": {},
   "outputs": [],
   "source": [
    "print(rev.iloc[0])"
   ]
  },
  {
   "cell_type": "markdown",
   "metadata": {},
   "source": [
    "I then separated out the data series I wanted to graph, along with the backup data series', before plotting the inflation adjusted revenue against the average vote."
   ]
  },
  {
   "cell_type": "code",
   "execution_count": null,
   "metadata": {},
   "outputs": [],
   "source": [
    "ra = rev['revenue_adj']\n",
    "va = rev['vote_average']\n",
    "vc = rev['vote_count']\n",
    "po = rev['popularity']\n",
    "\n",
    "plt.scatter(ra,va)\n",
    "plt.xlabel('Inflation Adjusted Revenue')\n",
    "plt.ylabel('Average Vote')\n",
    "plt.title('Revenue plotted against the average TMDb vote')"
   ]
  },
  {
   "cell_type": "markdown",
   "metadata": {},
   "source": [
    "Whilst there was a positive skew showing that films with a larger budget tend to have a larger vote, I wanted to see if I had a better result off plotting the other data series, so I also plotted these."
   ]
  },
  {
   "cell_type": "code",
   "execution_count": null,
   "metadata": {},
   "outputs": [],
   "source": [
    "plt.scatter(ra,vc)\n",
    "plt.xlabel('Inflation Adjusted Revenue')\n",
    "plt.ylabel('Vote Count')\n",
    "plt.title('Revenue plotted against the count of TMDb votes')"
   ]
  },
  {
   "cell_type": "code",
   "execution_count": null,
   "metadata": {},
   "outputs": [],
   "source": [
    "plt.scatter(va,vc)\n",
    "plt.xlabel('Average Vote')\n",
    "plt.ylabel('Vote Count')\n",
    "plt.title('The average TMDb vote against the count of TMDb votes')"
   ]
  },
  {
   "cell_type": "code",
   "execution_count": null,
   "metadata": {},
   "outputs": [],
   "source": [
    "plt.scatter(ra,po)\n",
    "plt.xlabel('Inflation Adjusted Revenue')\n",
    "plt.ylabel('Popularity')\n",
    "plt.title('Revenue plotted against the TMDb popularity')"
   ]
  },
  {
   "cell_type": "code",
   "execution_count": null,
   "metadata": {},
   "outputs": [],
   "source": [
    "plt.scatter(va,po)\n",
    "plt.xlabel('Average Vote')\n",
    "plt.ylabel('Popularity')\n",
    "plt.title('Average vote against the TMDb popularity')"
   ]
  },
  {
   "cell_type": "markdown",
   "metadata": {},
   "source": [
    "<a id='conclusions'></a>\n",
    "## Conclusions\n",
    "\n",
    "Whilst I did not show any correlation between the top actors against the film budget, there was a correlation between the TMDb vote and the revenue taken by the film.\n",
    "\n",
    "It was still worthwile comparing the top actors against the budget, to see that this was not the case, but also the main benefit was to see how many films the top actors had actually starred in.\n",
    "\n",
    "The positive correlation between the vote and revenue could benefit the production companies, as they may be able to select a test sample of reviewers to watch the film, in order to give a pre-release indication of the expected revenue of the film."
   ]
  }
 ],
 "metadata": {
  "kernelspec": {
   "display_name": "Python 3",
   "language": "python",
   "name": "python3"
  },
  "language_info": {
   "codemirror_mode": {
    "name": "ipython",
    "version": 3
   },
   "file_extension": ".py",
   "mimetype": "text/x-python",
   "name": "python",
   "nbconvert_exporter": "python",
   "pygments_lexer": "ipython3"
  }
 },
 "nbformat": 4,
 "nbformat_minor": 2
}
